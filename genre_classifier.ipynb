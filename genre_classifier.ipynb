{
 "cells": [
  {
   "cell_type": "markdown",
   "metadata": {
    "colab_type": "text",
    "id": "drfG7JbNrd8y"
   },
   "source": [
    "# (A) Data Cleaning\n",
    "### Objective: To simplify data for processing"
   ]
  },
  {
   "cell_type": "markdown",
   "metadata": {
    "colab_type": "text",
    "id": "SFghBxPnabJi"
   },
   "source": [
    "## 1) Importing necessary libraries for data manipulation\n",
    "- Libraries imported: \n",
    "\n",
    "1. ` pandas `\n",
    "2. ` numpy `\n",
    "3. ` sklearn.model_selection `\n",
    "4. ` sklearn `\n",
    "5. `preprocessing`\n",
    "6. `sklearn.cluster`\n",
    "7. `matplotlib.pyplot`\n",
    "8. `scipy`\n",
    "\n",
    "\n"
   ]
  },
  {
   "cell_type": "code",
   "execution_count": 63,
   "metadata": {
    "colab": {},
    "colab_type": "code",
    "id": "6rf6-Jdkrd81"
   },
   "outputs": [],
   "source": [
    "#importing packages\n",
    "import pandas as pd\n",
    "import numpy as np\n",
    "from sklearn.model_selection import train_test_split\n",
    "from sklearn.preprocessing import StandardScaler\n",
    "from sklearn.cluster import KMeans\n",
    "from sklearn.decomposition import PCA\n",
    "import matplotlib.pyplot as plt\n",
    "from scipy import stats\n",
    "%matplotlib inline"
   ]
  },
  {
   "cell_type": "markdown",
   "metadata": {
    "colab_type": "text",
    "id": "YfIQH9NZbhxf"
   },
   "source": [
    "## 2) Reading dataframe from dataset \n",
    "- `.head` method was used to print the first 5 rows of the dataframe"
   ]
  },
  {
   "cell_type": "code",
   "execution_count": 64,
   "metadata": {
    "colab": {
     "base_uri": "https://localhost:8080/",
     "height": 391
    },
    "colab_type": "code",
    "executionInfo": {
     "elapsed": 1691,
     "status": "error",
     "timestamp": 1574492467045,
     "user": {
      "displayName": "Gabriel Lewis",
      "photoUrl": "",
      "userId": "06184123974439881594"
     },
     "user_tz": -480
    },
    "id": "J4n-59iKrd84",
    "outputId": "ece2d209-fe33-4fc1-f98c-8f978999a804",
    "scrolled": true
   },
   "outputs": [
    {
     "data": {
      "text/html": [
       "<div>\n",
       "<style scoped>\n",
       "    .dataframe tbody tr th:only-of-type {\n",
       "        vertical-align: middle;\n",
       "    }\n",
       "\n",
       "    .dataframe tbody tr th {\n",
       "        vertical-align: top;\n",
       "    }\n",
       "\n",
       "    .dataframe thead th {\n",
       "        text-align: right;\n",
       "    }\n",
       "</style>\n",
       "<table border=\"1\" class=\"dataframe\">\n",
       "  <thead>\n",
       "    <tr style=\"text-align: right;\">\n",
       "      <th></th>\n",
       "      <th>artist_name</th>\n",
       "      <th>track_id</th>\n",
       "      <th>track_name</th>\n",
       "      <th>acousticness</th>\n",
       "      <th>danceability</th>\n",
       "      <th>duration_ms</th>\n",
       "      <th>energy</th>\n",
       "      <th>instrumentalness</th>\n",
       "      <th>key</th>\n",
       "      <th>liveness</th>\n",
       "      <th>loudness</th>\n",
       "      <th>mode</th>\n",
       "      <th>speechiness</th>\n",
       "      <th>tempo</th>\n",
       "      <th>time_signature</th>\n",
       "      <th>valence</th>\n",
       "      <th>popularity</th>\n",
       "      <th>genre</th>\n",
       "    </tr>\n",
       "  </thead>\n",
       "  <tbody>\n",
       "    <tr>\n",
       "      <th>0</th>\n",
       "      <td>YG</td>\n",
       "      <td>2RM4jf1Xa9zPgMGRDiht8O</td>\n",
       "      <td>Big Bank feat. 2 Chainz, Big Sean, Nicki Minaj</td>\n",
       "      <td>0.005820</td>\n",
       "      <td>0.743</td>\n",
       "      <td>238373</td>\n",
       "      <td>0.339</td>\n",
       "      <td>0.000</td>\n",
       "      <td>1</td>\n",
       "      <td>0.0812</td>\n",
       "      <td>-7.678</td>\n",
       "      <td>1</td>\n",
       "      <td>0.4090</td>\n",
       "      <td>203.927</td>\n",
       "      <td>4</td>\n",
       "      <td>0.118</td>\n",
       "      <td>15</td>\n",
       "      <td>['cali rap', 'hip hop', 'pop', 'pop rap', 'rap...</td>\n",
       "    </tr>\n",
       "    <tr>\n",
       "      <th>1</th>\n",
       "      <td>YG</td>\n",
       "      <td>1tHDG53xJNGsItRA3vfVgs</td>\n",
       "      <td>BAND DRUM (feat. A$AP Rocky)</td>\n",
       "      <td>0.024400</td>\n",
       "      <td>0.846</td>\n",
       "      <td>214800</td>\n",
       "      <td>0.557</td>\n",
       "      <td>0.000</td>\n",
       "      <td>8</td>\n",
       "      <td>0.2860</td>\n",
       "      <td>-7.259</td>\n",
       "      <td>1</td>\n",
       "      <td>0.4570</td>\n",
       "      <td>159.009</td>\n",
       "      <td>4</td>\n",
       "      <td>0.371</td>\n",
       "      <td>0</td>\n",
       "      <td>['cali rap', 'hip hop', 'pop', 'pop rap', 'rap...</td>\n",
       "    </tr>\n",
       "    <tr>\n",
       "      <th>2</th>\n",
       "      <td>R3HAB</td>\n",
       "      <td>6Wosx2euFPMT14UXiWudMy</td>\n",
       "      <td>Radio Silence</td>\n",
       "      <td>0.025000</td>\n",
       "      <td>0.603</td>\n",
       "      <td>138913</td>\n",
       "      <td>0.723</td>\n",
       "      <td>0.000</td>\n",
       "      <td>9</td>\n",
       "      <td>0.0824</td>\n",
       "      <td>-5.890</td>\n",
       "      <td>0</td>\n",
       "      <td>0.0454</td>\n",
       "      <td>114.966</td>\n",
       "      <td>4</td>\n",
       "      <td>0.382</td>\n",
       "      <td>56</td>\n",
       "      <td>['big room', 'dutch house', 'edm', 'electro ho...</td>\n",
       "    </tr>\n",
       "    <tr>\n",
       "      <th>3</th>\n",
       "      <td>Chris Cooq</td>\n",
       "      <td>3J2Jpw61sO7l6Hc7qdYV91</td>\n",
       "      <td>Lactose</td>\n",
       "      <td>0.029400</td>\n",
       "      <td>0.800</td>\n",
       "      <td>125381</td>\n",
       "      <td>0.579</td>\n",
       "      <td>0.912</td>\n",
       "      <td>5</td>\n",
       "      <td>0.0994</td>\n",
       "      <td>-12.118</td>\n",
       "      <td>0</td>\n",
       "      <td>0.0701</td>\n",
       "      <td>123.003</td>\n",
       "      <td>4</td>\n",
       "      <td>0.641</td>\n",
       "      <td>0</td>\n",
       "      <td>['None']</td>\n",
       "    </tr>\n",
       "    <tr>\n",
       "      <th>4</th>\n",
       "      <td>Chris Cooq</td>\n",
       "      <td>2jbYvQCyPgX3CdmAzeVeuS</td>\n",
       "      <td>Same - Original mix</td>\n",
       "      <td>0.000035</td>\n",
       "      <td>0.783</td>\n",
       "      <td>124016</td>\n",
       "      <td>0.792</td>\n",
       "      <td>0.878</td>\n",
       "      <td>7</td>\n",
       "      <td>0.0332</td>\n",
       "      <td>-10.277</td>\n",
       "      <td>1</td>\n",
       "      <td>0.0661</td>\n",
       "      <td>120.047</td>\n",
       "      <td>4</td>\n",
       "      <td>0.928</td>\n",
       "      <td>0</td>\n",
       "      <td>['None']</td>\n",
       "    </tr>\n",
       "  </tbody>\n",
       "</table>\n",
       "</div>"
      ],
      "text/plain": [
       "  artist_name                track_id  \\\n",
       "0          YG  2RM4jf1Xa9zPgMGRDiht8O   \n",
       "1          YG  1tHDG53xJNGsItRA3vfVgs   \n",
       "2       R3HAB  6Wosx2euFPMT14UXiWudMy   \n",
       "3  Chris Cooq  3J2Jpw61sO7l6Hc7qdYV91   \n",
       "4  Chris Cooq  2jbYvQCyPgX3CdmAzeVeuS   \n",
       "\n",
       "                                       track_name  acousticness  danceability  \\\n",
       "0  Big Bank feat. 2 Chainz, Big Sean, Nicki Minaj      0.005820         0.743   \n",
       "1                    BAND DRUM (feat. A$AP Rocky)      0.024400         0.846   \n",
       "2                                   Radio Silence      0.025000         0.603   \n",
       "3                                         Lactose      0.029400         0.800   \n",
       "4                             Same - Original mix      0.000035         0.783   \n",
       "\n",
       "   duration_ms  energy  instrumentalness  key  liveness  loudness  mode  \\\n",
       "0       238373   0.339             0.000    1    0.0812    -7.678     1   \n",
       "1       214800   0.557             0.000    8    0.2860    -7.259     1   \n",
       "2       138913   0.723             0.000    9    0.0824    -5.890     0   \n",
       "3       125381   0.579             0.912    5    0.0994   -12.118     0   \n",
       "4       124016   0.792             0.878    7    0.0332   -10.277     1   \n",
       "\n",
       "   speechiness    tempo  time_signature  valence  popularity  \\\n",
       "0       0.4090  203.927               4    0.118          15   \n",
       "1       0.4570  159.009               4    0.371           0   \n",
       "2       0.0454  114.966               4    0.382          56   \n",
       "3       0.0701  123.003               4    0.641           0   \n",
       "4       0.0661  120.047               4    0.928           0   \n",
       "\n",
       "                                               genre  \n",
       "0  ['cali rap', 'hip hop', 'pop', 'pop rap', 'rap...  \n",
       "1  ['cali rap', 'hip hop', 'pop', 'pop rap', 'rap...  \n",
       "2  ['big room', 'dutch house', 'edm', 'electro ho...  \n",
       "3                                           ['None']  \n",
       "4                                           ['None']  "
      ]
     },
     "execution_count": 64,
     "metadata": {},
     "output_type": "execute_result"
    }
   ],
   "source": [
    "#reading from base dataset\n",
    "audioset = pd.read_csv('audioset_g.csv', sep=',')\n",
    "audioset.head()"
   ]
  },
  {
   "cell_type": "markdown",
   "metadata": {
    "colab_type": "text",
    "id": "tQx53v3hbxGS"
   },
   "source": [
    "## 3) Function to replace complex genre labels with simple ones `genre_simp`\n",
    "- A function was written `genre_simp` that simplified the numerous genre labels by assigning the genres into 4 main categories\n",
    "- The following 4 categories were chosen:\n",
    "\n",
    "\n",
    "1.   *hip hop*\n",
    "2.   *classic*\n",
    "3.   *metal*\n",
    "4.   *country*\n",
    "\n"
   ]
  },
  {
   "cell_type": "code",
   "execution_count": 65,
   "metadata": {
    "colab": {},
    "colab_type": "code",
    "id": "cSKLIBefrd89"
   },
   "outputs": [],
   "source": [
    "def genre_simp(genre):\n",
    "    if 'hip hop' in genre:\n",
    "        return 'hip hop'\n",
    "    elif 'metal' in genre:\n",
    "        return 'metal'\n",
    "    elif 'classic' in genre:\n",
    "        return 'classical'\n",
    "    elif 'country' in genre:\n",
    "        return 'country'\n",
    "    else:\n",
    "        return 'None'"
   ]
  },
  {
   "cell_type": "markdown",
   "metadata": {
    "colab_type": "text",
    "id": "Z4-G8GIPczEG"
   },
   "source": [
    "## 4) Applying genre simplifier function `genre_simp` to genres"
   ]
  },
  {
   "cell_type": "code",
   "execution_count": 66,
   "metadata": {
    "colab": {},
    "colab_type": "code",
    "id": "oRGlm-kIrd8_"
   },
   "outputs": [],
   "source": [
    "#applying the genre simplifier function to the genres\n",
    "genre_list_simp = audioset['genre'].apply(genre_simp)        "
   ]
  },
  {
   "cell_type": "markdown",
   "metadata": {
    "colab_type": "text",
    "id": "czCyhSS8c6mB"
   },
   "source": [
    "## 5) Combining output genres to the main dataframe `genre`"
   ]
  },
  {
   "cell_type": "code",
   "execution_count": 67,
   "metadata": {
    "colab": {},
    "colab_type": "code",
    "id": "j4u0-3ilrd9C"
   },
   "outputs": [],
   "source": [
    "audioset['genre'] = genre_list_simp\n",
    "audiosetg = audioset[audioset['genre'].isin(['hip hop', 'country', 'metal', 'classical'])]"
   ]
  },
  {
   "cell_type": "markdown",
   "metadata": {
    "colab_type": "text",
    "id": "tA1-j4W0c7Ss"
   },
   "source": [
    "## 6) Subsetting the dataframe into the 4 main genre categories \n",
    "- Metal songs - `metal_set`\n",
    "- Classical songs - `classical_set`\n",
    "- Hip hop songs - `hiphop_set`\n",
    "- Country songs - `country_set`\n"
   ]
  },
  {
   "cell_type": "code",
   "execution_count": 68,
   "metadata": {
    "colab": {},
    "colab_type": "code",
    "id": "xk-NQ0-Drd9H"
   },
   "outputs": [],
   "source": [
    "#segregate into genres, so we can sample a similar number of songs\n",
    "metal_set = audiosetg[audiosetg['genre']=='metal']\n",
    "classical_set = audiosetg[audiosetg['genre']=='classical']\n",
    "hiphop_set = audiosetg[audiosetg['genre']=='hip hop']\n",
    "country_set = audiosetg[audiosetg['genre']=='country']"
   ]
  },
  {
   "cell_type": "markdown",
   "metadata": {
    "colab_type": "text",
    "id": "jqTFoTYfc7x5"
   },
   "source": [
    "## 7) Assigning a maximum limit of 2000 samples\n",
    "- Random sampling of each genre, using the `.sample` method"
   ]
  },
  {
   "cell_type": "code",
   "execution_count": 69,
   "metadata": {
    "colab": {},
    "colab_type": "code",
    "id": "hVSZ8b0srd9K"
   },
   "outputs": [],
   "source": [
    "#sample an equal number of each genre\n",
    "metal_set = metal_set.sample(2000)\n",
    "classical_set = classical_set.sample(2000)\n",
    "hiphop_set = hiphop_set.sample(2000)\n",
    "country_set = country_set.sample(2000)"
   ]
  },
  {
   "cell_type": "markdown",
   "metadata": {
    "colab_type": "text",
    "id": "87Mc_M6lrd9M"
   },
   "source": [
    "# (B) Feature Selection\n",
    "### Objective: Select features that best distinguish between these genres"
   ]
  },
  {
   "cell_type": "markdown",
   "metadata": {
    "colab_type": "text",
    "id": "UkV3dpg7F1Ok"
   },
   "source": [
    "## 1) Creating a function `genre_boxplot` that plots a boxplot\n",
    "- To visualize each metric's ability to separate by genre "
   ]
  },
  {
   "cell_type": "code",
   "execution_count": 0,
   "metadata": {
    "colab": {},
    "colab_type": "code",
    "id": "RvFbL5G9rd9N"
   },
   "outputs": [],
   "source": [
    "#function to print a boxplot of each metric's ability to separate by genre\n",
    "def genre_boxplot(metric):\n",
    "    metal_plot = metal_set[metric]\n",
    "    classical_plot = classical_set[metric]\n",
    "    hiphop_plot = hiphop_set[metric]\n",
    "    country_plot = country_set[metric]\n",
    "    plt.boxplot([metal_plot, classical_plot, hiphop_plot, country_plot])\n",
    "    plt.show()"
   ]
  },
  {
   "cell_type": "markdown",
   "metadata": {
    "colab_type": "text",
    "id": "gTmXkGOLDqrF"
   },
   "source": [
    "### Sample output below"
   ]
  },
  {
   "cell_type": "code",
   "execution_count": 0,
   "metadata": {
    "colab": {
     "base_uri": "https://localhost:8080/",
     "height": 265
    },
    "colab_type": "code",
    "executionInfo": {
     "elapsed": 1093,
     "status": "ok",
     "timestamp": 1574341193949,
     "user": {
      "displayName": "Austin Chia Cheng En",
      "photoUrl": "",
      "userId": "07053911715638080434"
     },
     "user_tz": -480
    },
    "id": "uC8iB9hard9P",
    "outputId": "e77b2341-f883-45cb-c67b-fb2f1539ce88"
   },
   "outputs": [
    {
     "data": {
      "image/png": "[encoded data removed]",
      "text/plain": [
       "<Figure size 432x288 with 1 Axes>"
      ]
     },
     "metadata": {
      "tags": []
     },
     "output_type": "display_data"
    }
   ],
   "source": [
    "#genres\n",
    "# genre_boxplot('acousticness')\n",
    "genre_boxplot('danceability')\n",
    "# genre_boxplot('duration_ms')\n",
    "# genre_boxplot('energy')\n",
    "# genre_boxplot('instrumentalness')\n",
    "# genre_boxplot('key')\n",
    "# genre_boxplot('liveness')\n",
    "# genre_boxplot('loudness')\n",
    "# genre_boxplot('mode')\n",
    "# genre_boxplot('speechiness')\n",
    "# genre_boxplot('tempo')\n",
    "# genre_boxplot('time_signature')\n",
    "# genre_boxplot('valence')"
   ]
  },
  {
   "cell_type": "markdown",
   "metadata": {
    "colab_type": "text",
    "id": "Bs0R2rpuHLHs"
   },
   "source": [
    "## 2) Assumption of normality test\n",
    "- Used the `stats.shapiro` function to test for assumptions of normal distributions in each song metric"
   ]
  },
  {
   "cell_type": "code",
   "execution_count": 0,
   "metadata": {
    "colab": {},
    "colab_type": "code",
    "id": "9kxKwLbQrd9R"
   },
   "outputs": [],
   "source": [
    "#test for assumption of normality\n",
    "def norm_test(genreset): \n",
    "    results = [stats.shapiro(genreset['acousticness']),\n",
    "    stats.shapiro(genreset['danceability']),\n",
    "    stats.shapiro(genreset['duration_ms']),\n",
    "    stats.shapiro(genreset['energy']),\n",
    "    stats.shapiro(genreset['instrumentalness']),\n",
    "    stats.shapiro(genreset['key']),\n",
    "    stats.shapiro(genreset['liveness']),\n",
    "    stats.shapiro(genreset['loudness']),\n",
    "    stats.shapiro(genreset['mode']),\n",
    "    stats.shapiro(genreset['speechiness']),\n",
    "    stats.shapiro(genreset['tempo']),\n",
    "    stats.shapiro(genreset['time_signature']),\n",
    "    stats.shapiro(genreset['valence'])]\n",
    "    return results"
   ]
  },
  {
   "cell_type": "code",
   "execution_count": 0,
   "metadata": {
    "colab": {
     "base_uri": "https://localhost:8080/",
     "height": 235
    },
    "colab_type": "code",
    "executionInfo": {
     "elapsed": 892,
     "status": "ok",
     "timestamp": 1574341256530,
     "user": {
      "displayName": "Austin Chia Cheng En",
      "photoUrl": "",
      "userId": "07053911715638080434"
     },
     "user_tz": -480
    },
    "id": "vPS3sLvbrd9T",
    "outputId": "949e18c8-5ba4-40c4-d52d-0f9820ef2c0c"
   },
   "outputs": [
    {
     "data": {
      "text/plain": [
       "[(0.3923158049583435, 0.0),\n",
       " (0.9923722147941589, 1.0574458642054196e-08),\n",
       " (0.8098025321960449, 1.5974802493302915e-43),\n",
       " (0.7620030045509338, 0.0),\n",
       " (0.6244382262229919, 0.0),\n",
       " (0.9323983192443848, 3.484283219046354e-29),\n",
       " (0.8069074153900146, 9.388699710976274e-44),\n",
       " (0.7939306497573853, 9.80908925027372e-45),\n",
       " (0.6314602494239807, 0.0),\n",
       " (0.6489204168319702, 0.0),\n",
       " (0.9902902841567993, 2.546425292848653e-10),\n",
       " (0.3728489875793457, 0.0),\n",
       " (0.957698404788971, 1.1416593813306599e-23)]"
      ]
     },
     "execution_count": 14,
     "metadata": {
      "tags": []
     },
     "output_type": "execute_result"
    }
   ],
   "source": [
    "norm_test(metal_set)\n",
    "# norm_test(classical_set)\n",
    "# norm_test(hiphop_set)\n",
    "# norm_test(country_set)"
   ]
  },
  {
   "cell_type": "markdown",
   "metadata": {
    "colab_type": "text",
    "id": "DGXW8JNQHenm"
   },
   "source": [
    "## 3) Test for significance difference between genres\n",
    "- Kolmogorov-Smirnoff test was chosen to test for significant difference\n",
    "- The `stats.ks_2samp` function was used"
   ]
  },
  {
   "cell_type": "code",
   "execution_count": 0,
   "metadata": {
    "colab": {},
    "colab_type": "code",
    "id": "KIHpcrrFrd9V"
   },
   "outputs": [],
   "source": [
    "#function to conduct Kolmogorov-Smirnoff test to test significant difference between genres\n",
    "def ks_test(genre1,genre2):\n",
    "    results=[stats.ks_2samp(genre1['acousticness'],genre2['acousticness']),\n",
    "             stats.ks_2samp(genre1['danceability'],genre2['danceability']),\n",
    "             stats.ks_2samp(genre1['duration_ms'],genre2['duration_ms']),\n",
    "             stats.ks_2samp(genre1['energy'],genre2['energy']),\n",
    "             stats.ks_2samp(genre1['instrumentalness'],genre2['instrumentalness']),\n",
    "             stats.ks_2samp(genre1['key'],genre2['key']),\n",
    "             stats.ks_2samp(genre1['liveness'],genre2['liveness']),\n",
    "             stats.ks_2samp(genre1['loudness'],genre2['loudness']),\n",
    "             stats.ks_2samp(genre1['mode'],genre2['mode']),\n",
    "             stats.ks_2samp(genre1['speechiness'],genre2['speechiness']),\n",
    "             stats.ks_2samp(genre1['tempo'],genre2['tempo']),\n",
    "             stats.ks_2samp(genre1['time_signature'],genre2['time_signature']),\n",
    "             stats.ks_2samp(genre1['valence'],genre2['valence'])]\n",
    "    return results"
   ]
  },
  {
   "cell_type": "markdown",
   "metadata": {
    "colab_type": "text",
    "id": "2UrVsyuyHzhA"
   },
   "source": [
    "### Results output shown below"
   ]
  },
  {
   "cell_type": "code",
   "execution_count": 0,
   "metadata": {
    "colab": {
     "base_uri": "https://localhost:8080/",
     "height": 235
    },
    "colab_type": "code",
    "executionInfo": {
     "elapsed": 919,
     "status": "ok",
     "timestamp": 1574341275795,
     "user": {
      "displayName": "Austin Chia Cheng En",
      "photoUrl": "",
      "userId": "07053911715638080434"
     },
     "user_tz": -480
    },
    "id": "JgGT4CLcrd9X",
    "outputId": "dde019ac-ac86-4c49-f1eb-ae32d0ac3d21"
   },
   "outputs": [
    {
     "data": {
      "text/plain": [
       "[Ks_2sampResult(statistic=0.6225, pvalue=0.0),\n",
       " Ks_2sampResult(statistic=0.4165, pvalue=9.465459787348435e-156),\n",
       " Ks_2sampResult(statistic=0.303, pvalue=2.0431381097305446e-81),\n",
       " Ks_2sampResult(statistic=0.5105, pvalue=9.439888327081325e-238),\n",
       " Ks_2sampResult(statistic=0.418, pvalue=6.585335580486585e-157),\n",
       " Ks_2sampResult(statistic=0.031, pvalue=0.291764846534962),\n",
       " Ks_2sampResult(statistic=0.1585, pvalue=2.473712143607979e-22),\n",
       " Ks_2sampResult(statistic=0.208, pvalue=2.859113726449194e-38),\n",
       " Ks_2sampResult(statistic=0.24, pvalue=6.186865514780683e-51),\n",
       " Ks_2sampResult(statistic=0.378, pvalue=1.2258066656516508e-127),\n",
       " Ks_2sampResult(statistic=0.0825, pvalue=2.4207757651980217e-06),\n",
       " Ks_2sampResult(statistic=0.029, pvalue=0.36968362182350656),\n",
       " Ks_2sampResult(statistic=0.337, pvalue=5.3073925167016404e-101)]"
      ]
     },
     "execution_count": 16,
     "metadata": {
      "tags": []
     },
     "output_type": "execute_result"
    }
   ],
   "source": [
    "# ks_test(metal_set, classical_set)\n",
    "# ks_test(metal_set, hiphop_set)\n",
    "ks_test(metal_set, country_set) #time signature cannot differentiate these\n",
    "# ks_test(classical_set, hiphop_set)\n",
    "# ks_test(classical_set, country_set) #key cannot differentiate these\n",
    "# ks_test(hiphop_set, country_set) #liveness, time_signature cannot differentiate"
   ]
  },
  {
   "cell_type": "markdown",
   "metadata": {
    "colab_type": "text",
    "id": "xPvmm5Yurd9a"
   },
   "source": [
    "### Conclusion: All of the metrics except liveness, time signature and key can be used to differentiate between the 4 genres. Also exclude duration and mode due to irrelevance."
   ]
  },
  {
   "cell_type": "markdown",
   "metadata": {
    "colab_type": "text",
    "id": "AA7TvqCWrd9a"
   },
   "source": [
    "# (C) K-Means Clustering\n",
    "### Objective: Observe clustering between genres"
   ]
  },
  {
   "cell_type": "markdown",
   "metadata": {
    "colab_type": "text",
    "id": "H-FYmVoWH7eV"
   },
   "source": [
    "## 1) Combining 4 genre categories into 1 dataframe"
   ]
  },
  {
   "cell_type": "code",
   "execution_count": 70,
   "metadata": {
    "colab": {},
    "colab_type": "code",
    "id": "mXszmsDBrd9b"
   },
   "outputs": [],
   "source": [
    "#putting them into 1 dataframe\n",
    "music_set = pd.concat([metal_set, classical_set, hiphop_set, country_set])"
   ]
  },
  {
   "cell_type": "markdown",
   "metadata": {
    "colab_type": "text",
    "id": "Jr-siJiKIEMJ"
   },
   "source": [
    "## 2) Shuffle and randomize dataframe\n",
    "- using the `music_set.sample` function"
   ]
  },
  {
   "cell_type": "code",
   "execution_count": 71,
   "metadata": {
    "colab": {},
    "colab_type": "code",
    "id": "oXVCbyb-rd9f"
   },
   "outputs": [],
   "source": [
    "#shuffle dataframe\n",
    "music_set = music_set.sample(frac=1)"
   ]
  },
  {
   "cell_type": "markdown",
   "metadata": {
    "colab_type": "text",
    "id": "WEfOU5GbILSc"
   },
   "source": [
    "## 3) Separating data and labels"
   ]
  },
  {
   "cell_type": "code",
   "execution_count": 72,
   "metadata": {
    "colab": {},
    "colab_type": "code",
    "id": "zJXPlcgord9h"
   },
   "outputs": [],
   "source": [
    "#isolating data and labels\n",
    "labelcol = music_set['genre']\n",
    "datacol = music_set[['acousticness', 'danceability', 'energy', 'instrumentalness', 'loudness',\n",
    "                     'speechiness', 'tempo', 'valence']]"
   ]
  },
  {
   "cell_type": "markdown",
   "metadata": {
    "colab_type": "text",
    "id": "tcD2bzB1ITmy"
   },
   "source": [
    "## 4) Preparing dataset for machine learning (KNN)\n",
    "- 80% of data used for training the model\n",
    "- 20% of data used for testing the model"
   ]
  },
  {
   "cell_type": "code",
   "execution_count": 73,
   "metadata": {
    "colab": {},
    "colab_type": "code",
    "id": "dUJygmhWrd9i"
   },
   "outputs": [],
   "source": [
    "#splitting dataset into train and test\n",
    "datacol, data_test, labelcol, label_test = train_test_split(datacol, labelcol, test_size=0.2)"
   ]
  },
  {
   "cell_type": "markdown",
   "metadata": {
    "colab_type": "text",
    "id": "RXjrPoy4Ih3F"
   },
   "source": [
    "## 5) Processing data\n",
    "- Scaling the data\n",
    "- Fitting training data using `stdscale.fit` function\n",
    "- Transforming both training and test datasets"
   ]
  },
  {
   "cell_type": "code",
   "execution_count": 74,
   "metadata": {
    "colab": {},
    "colab_type": "code",
    "id": "XymxkBYdrd9l"
   },
   "outputs": [],
   "source": [
    "#scaling the data\n",
    "stdscale = StandardScaler()\n",
    "\n",
    "#fit on training data\n",
    "stdscale.fit(datacol)\n",
    "\n",
    "#transform both training and test\n",
    "dataset = stdscale.transform(datacol)\n",
    "data_test = stdscale.transform(data_test)"
   ]
  },
  {
   "cell_type": "markdown",
   "metadata": {
    "colab_type": "text",
    "id": "yYcaBWWWIxTc"
   },
   "source": [
    "## 6) Transforms dataset into an array using `np.array`\n",
    "- for input before running Kmeans algorithm"
   ]
  },
  {
   "cell_type": "code",
   "execution_count": 75,
   "metadata": {
    "colab": {},
    "colab_type": "code",
    "id": "OMNs1TgKrd9p"
   },
   "outputs": [],
   "source": [
    "#transform into array for input\n",
    "train_data = np.array(dataset.astype(float))"
   ]
  },
  {
   "cell_type": "markdown",
   "metadata": {
    "colab_type": "text",
    "id": "JHKJFh7PJFyj"
   },
   "source": [
    "## 7) Performing Kmeans Clustering\n",
    "- Training the model using Kmeans clustering machine learning algorithm `KMeans` function\n",
    "- Fitting the model into the training data"
   ]
  },
  {
   "cell_type": "code",
   "execution_count": 76,
   "metadata": {
    "colab": {
     "base_uri": "https://localhost:8080/",
     "height": 67
    },
    "colab_type": "code",
    "executionInfo": {
     "elapsed": 1082,
     "status": "ok",
     "timestamp": 1574341372200,
     "user": {
      "displayName": "Austin Chia Cheng En",
      "photoUrl": "",
      "userId": "07053911715638080434"
     },
     "user_tz": -480
    },
    "id": "l_oeO3rVrd9s",
    "outputId": "483bb1ec-6e54-43cf-ebc2-c7a5a0ef2f19"
   },
   "outputs": [
    {
     "data": {
      "text/plain": [
       "KMeans(algorithm='auto', copy_x=True, init='k-means++', max_iter=600,\n",
       "    n_clusters=4, n_init=10, n_jobs=None, precompute_distances='auto',\n",
       "    random_state=None, tol=0.0001, verbose=0)"
      ]
     },
     "execution_count": 76,
     "metadata": {},
     "output_type": "execute_result"
    }
   ],
   "source": [
    "#performing Kmeans\n",
    "kmeans = KMeans(n_clusters=4, max_iter=600, algorithm = 'auto')\n",
    "kmeans.fit(train_data)"
   ]
  },
  {
   "cell_type": "markdown",
   "metadata": {
    "colab_type": "text",
    "id": "d5SbukcLJcMz"
   },
   "source": [
    "## 8) Creating the prediction cluster\n",
    "- created using a ` for ` loop"
   ]
  },
  {
   "cell_type": "code",
   "execution_count": 77,
   "metadata": {
    "colab": {},
    "colab_type": "code",
    "id": "HZXKi686rd9w"
   },
   "outputs": [],
   "source": [
    "#creating the prediction cluster\n",
    "cluster = []\n",
    "for i in range(len(train_data)):\n",
    "    predictor = np.array(train_data[i].astype(float))\n",
    "    predictor = predictor.reshape(-1, len(predictor))\n",
    "    prediction = kmeans.predict(predictor)\n",
    "    cluster.append(prediction[0])"
   ]
  },
  {
   "cell_type": "markdown",
   "metadata": {
    "colab_type": "text",
    "id": "8b36rUybJhx6"
   },
   "source": [
    "## 9) Adding clustering results to the main dataframe"
   ]
  },
  {
   "cell_type": "code",
   "execution_count": 78,
   "metadata": {
    "colab": {
     "base_uri": "https://localhost:8080/",
     "height": 402
    },
    "colab_type": "code",
    "executionInfo": {
     "elapsed": 769,
     "status": "ok",
     "timestamp": 1574260507304,
     "user": {
      "displayName": "Austin Chia Cheng En",
      "photoUrl": "",
      "userId": "07053911715638080434"
     },
     "user_tz": -480
    },
    "id": "ML2loJtxrd9y",
    "outputId": "0feb08cc-1904-4b17-9e46-9365954f471c",
    "scrolled": true
   },
   "outputs": [],
   "source": [
    "comparison_set = pd.DataFrame(labelcol)\n",
    "comparison_set['cluster'] = cluster"
   ]
  },
  {
   "cell_type": "markdown",
   "metadata": {
    "colab_type": "text",
    "id": "Lgr9yb_CJrl0"
   },
   "source": [
    "## 10) Testing to determine where genres are placed\n",
    "- Determines which genres are placed into which clusters\n",
    "- Sample output printed below"
   ]
  },
  {
   "cell_type": "code",
   "execution_count": 79,
   "metadata": {
    "colab": {
     "base_uri": "https://localhost:8080/",
     "height": 84
    },
    "colab_type": "code",
    "executionInfo": {
     "elapsed": 962,
     "status": "ok",
     "timestamp": 1574257937004,
     "user": {
      "displayName": "Austin Chia Cheng En",
      "photoUrl": "",
      "userId": "07053911715638080434"
     },
     "user_tz": -480
    },
    "id": "IGfD-tz4rd90",
    "outputId": "27912c99-c5bc-46d6-a653-a84e54485a65"
   },
   "outputs": [
    {
     "name": "stdout",
     "output_type": "stream",
     "text": [
      "0\n",
      "3\n",
      "1\n",
      "2\n"
     ]
    }
   ],
   "source": [
    "#seeing which genres are placed into which clusters\n",
    "print(comparison_set[comparison_set['genre'] == 'classical']['cluster'].mode()[0])\n",
    "print(comparison_set[comparison_set['genre'] == 'metal']['cluster'].mode()[0])\n",
    "print(comparison_set[comparison_set['genre'] == 'hip hop']['cluster'].mode()[0])\n",
    "print(comparison_set[comparison_set['genre'] == 'country']['cluster'].mode()[0])"
   ]
  },
  {
   "cell_type": "markdown",
   "metadata": {
    "colab_type": "text",
    "id": "2wt-bId6KFUp"
   },
   "source": [
    "## 11) Reassigning genres using a `for` loop\n",
    "- into the clusters generated from the K means algorithm"
   ]
  },
  {
   "cell_type": "code",
   "execution_count": 80,
   "metadata": {
    "colab": {},
    "colab_type": "code",
    "id": "q-pBMo7Trd94"
   },
   "outputs": [],
   "source": [
    "#reassigning the genres to those clusters\n",
    "label_cluster = []\n",
    "for genre in labelcol:\n",
    "    if genre == 'classical':\n",
    "        label_cluster.append(comparison_set[comparison_set['genre'] == 'classical']['cluster'].mode()[0])\n",
    "    elif genre == 'metal':\n",
    "        label_cluster.append(comparison_set[comparison_set['genre'] == 'metal']['cluster'].mode()[0])\n",
    "    elif genre == 'hip hop':\n",
    "        label_cluster.append(comparison_set[comparison_set['genre'] == 'hip hop']['cluster'].mode()[0])\n",
    "    elif genre == 'country':\n",
    "        label_cluster.append(comparison_set[comparison_set['genre'] == 'country']['cluster'].mode()[0])"
   ]
  },
  {
   "cell_type": "markdown",
   "metadata": {
    "colab_type": "text",
    "id": "ztjlBkDXKO-F"
   },
   "source": [
    "## 12) Prints the result of the K means clustering\n",
    "- Prints number of songs correctly clustered\n",
    "- Sample prediction accuracy shown below was 0.67734375"
   ]
  },
  {
   "cell_type": "code",
   "execution_count": 81,
   "metadata": {
    "colab": {
     "base_uri": "https://localhost:8080/",
     "height": 34
    },
    "colab_type": "code",
    "executionInfo": {
     "elapsed": 3780,
     "status": "ok",
     "timestamp": 1574257980213,
     "user": {
      "displayName": "Austin Chia Cheng En",
      "photoUrl": "",
      "userId": "07053911715638080434"
     },
     "user_tz": -480
    },
    "id": "uKu5z97DC5dB",
    "outputId": "5eaa4f58-c89a-4a3e-ec6f-88c9d34d4a4e"
   },
   "outputs": [
    {
     "name": "stdout",
     "output_type": "stream",
     "text": [
      "The proportion of songs correctly clustered is: 0.68375\n"
     ]
    }
   ],
   "source": [
    "correct = 0\n",
    "for i in range(len(train_data)):\n",
    "    predictor = np.array(train_data[i].astype(float))\n",
    "    predictor = predictor.reshape(-1, len(predictor))\n",
    "    prediction = kmeans.predict(predictor)\n",
    "    if prediction[0] == label_cluster[i]:\n",
    "        correct += 1\n",
    "\n",
    "print(\"The proportion of songs correctly clustered is:\", correct/len(train_data))"
   ]
  },
  {
   "cell_type": "code",
   "execution_count": 82,
   "metadata": {},
   "outputs": [],
   "source": [
    "#visualisation of clustering\n",
    "pca = PCA(n_components=2)\n",
    "pca_train = pca.fit_transform(train_data)\n",
    "x_axis = []\n",
    "y_axis = []\n",
    "for point in pca_train:\n",
    "    x_axis.append(point[0])\n",
    "    y_axis.append(point[1])\n",
    "    \n",
    "xandy = pd.DataFrame()\n",
    "xandy['x'] = x_axis\n",
    "xandy['y'] = y_axis"
   ]
  },
  {
   "cell_type": "code",
   "execution_count": 83,
   "metadata": {},
   "outputs": [
    {
     "data": {
      "image/png": "[encoded data removed]",
      "text/plain": [
       "<Figure size 432x288 with 1 Axes>"
      ]
     },
     "metadata": {
      "needs_background": "light"
     },
     "output_type": "display_data"
    }
   ],
   "source": [
    "fig, ax = plt.subplots()\n",
    "\n",
    "colors = {'metal':'yellow', 'hip hop':'mediumspringgreen', 'classical':'steelblue', 'country':'purple'}\n",
    "\n",
    "scatter = ax.scatter(xandy['x'], xandy['y'], c=labelcol.apply(lambda x: colors[x]))\n",
    "from matplotlib.patches import Patch\n",
    "from matplotlib.lines import Line2D\n",
    "\n",
    "legend_elements = [Line2D([0], [0], marker='o', color='mediumspringgreen', label='Hip Hop',\n",
    "                          markerfacecolor='mediumspringgreen', markersize=9),\n",
    "                   Line2D([0], [0], marker='o', color='yellow', label='Metal',\n",
    "                          markerfacecolor='yellow', markersize=9),\n",
    "                  Line2D([0], [0], marker='o', color='steelblue', label='Classical',\n",
    "                          markerfacecolor='steelblue', markersize=9),\n",
    "                  Line2D([0], [0], marker='o', color='purple', label='country',\n",
    "                          markerfacecolor='purple', markersize=9)]\n",
    "ax.legend(handles=legend_elements, bbox_to_anchor=(1.1, 1.05))\n",
    "\n",
    "plt.title('Genre Cluster')\n",
    "plt.xlabel('PC1')\n",
    "plt.ylabel('PC2')\n",
    "\n",
    "plt.show()"
   ]
  },
  {
   "cell_type": "code",
   "execution_count": 84,
   "metadata": {},
   "outputs": [
    {
     "data": {
      "image/png": "[encoded data removed]",
      "text/plain": [
       "<Figure size 432x288 with 1 Axes>"
      ]
     },
     "metadata": {
      "needs_background": "light"
     },
     "output_type": "display_data"
    }
   ],
   "source": [
    "fig, ax = plt.subplots()\n",
    "\n",
    "scatter = ax.scatter(xandy['x'], xandy['y'], c=cluster, cmap='Accent')\n",
    "\n",
    "legend_elements = [Line2D([0], [0], marker='o', color='yellow', label='2',\n",
    "                          markerfacecolor='yellow', markersize=9),\n",
    "                   Line2D([0], [0], marker='o', color='mediumspringgreen', label='3',\n",
    "                          markerfacecolor='mediumspringgreen', markersize=9),\n",
    "                  Line2D([0], [0], marker='o', color='steelblue', label='1',\n",
    "                          markerfacecolor='steelblue', markersize=9),\n",
    "                  Line2D([0], [0], marker='o', color='purple', label='0',\n",
    "                          markerfacecolor='purple', markersize=9)]\n",
    "\n",
    "ax.legend(handles=legend_elements, bbox_to_anchor=(1.1, 1.05))\n",
    "\n",
    "plt.title('Machine Cluster')\n",
    "plt.xlabel('PC1')\n",
    "plt.ylabel('PC2')\n",
    "                                                    \n",
    "plt.scatter(x_axis,y_axis, c=cluster)\n",
    "plt.show()"
   ]
  },
  {
   "cell_type": "markdown",
   "metadata": {
    "colab_type": "text",
    "id": "0wrlzzxcrd98"
   },
   "source": [
    "# (D) K-Nearest Neighbors (KNN) Predictor\n",
    "### Objective: To use use selected metrics to predict the genre of a song"
   ]
  },
  {
   "cell_type": "markdown",
   "metadata": {
    "colab_type": "text",
    "id": "u6EdPO2nKoCa"
   },
   "source": [
    "## 1) Importing of necessary packages/libraries for KNN"
   ]
  },
  {
   "cell_type": "code",
   "execution_count": 85,
   "metadata": {
    "colab": {},
    "colab_type": "code",
    "id": "w6_zkJt7rd98"
   },
   "outputs": [],
   "source": [
    "#Importing packages\n",
    "from sklearn.neighbors import KNeighborsClassifier\n",
    "from sklearn import metrics\n",
    "from sklearn.metrics import confusion_matrix"
   ]
  },
  {
   "cell_type": "markdown",
   "metadata": {
    "colab_type": "text",
    "id": "meSDzAPuKyOO"
   },
   "source": [
    "## 2) Create a K-Nearest Neighbors classifier"
   ]
  },
  {
   "cell_type": "code",
   "execution_count": 86,
   "metadata": {
    "colab": {},
    "colab_type": "code",
    "id": "fIgJe1WPFr09"
   },
   "outputs": [],
   "source": [
    "#Create KNN Classifier\n",
    "random.seed(10)\n",
    "knn = KNeighborsClassifier(n_neighbors=8)"
   ]
  },
  {
   "cell_type": "markdown",
   "metadata": {
    "colab_type": "text",
    "id": "w93rWLhuK6C-"
   },
   "source": [
    "## 3) Train model using the training datasets"
   ]
  },
  {
   "cell_type": "code",
   "execution_count": 87,
   "metadata": {
    "colab": {},
    "colab_type": "code",
    "id": "QQav35_IFo9X"
   },
   "outputs": [],
   "source": [
    "#Train the model using the training sets\n",
    "knn_model = knn.fit(train_data, labelcol)"
   ]
  },
  {
   "cell_type": "markdown",
   "metadata": {
    "colab_type": "text",
    "id": "d3ZPddhyLAVp"
   },
   "source": [
    "## 4) Conduct prediction accuracy of the model"
   ]
  },
  {
   "cell_type": "code",
   "execution_count": 88,
   "metadata": {
    "colab": {},
    "colab_type": "code",
    "id": "gWUZcIJ9FoxI"
   },
   "outputs": [],
   "source": [
    "#Predict the response for test dataset\n",
    "knn_pred = knn.predict(data_test)"
   ]
  },
  {
   "cell_type": "markdown",
   "metadata": {
    "colab_type": "text",
    "id": "6FNy5j4RLKoe"
   },
   "source": [
    "## 5) Prints the KNN prediction accuracy\n",
    "- Sample output below shows a prediction accuracy of genre predictions is 0.769375\n"
   ]
  },
  {
   "cell_type": "code",
   "execution_count": 89,
   "metadata": {
    "colab": {
     "base_uri": "https://localhost:8080/",
     "height": 34
    },
    "colab_type": "code",
    "executionInfo": {
     "elapsed": 887,
     "status": "ok",
     "timestamp": 1574341392343,
     "user": {
      "displayName": "Austin Chia Cheng En",
      "photoUrl": "",
      "userId": "07053911715638080434"
     },
     "user_tz": -480
    },
    "id": "XDRk74kDrd9-",
    "outputId": "8a0dbff3-a592-43e4-85e6-da90a6bf15b5"
   },
   "outputs": [
    {
     "name": "stdout",
     "output_type": "stream",
     "text": [
      "Based on our current metrics, the accuracy of genre prediction is: 0.763125\n"
     ]
    }
   ],
   "source": [
    "#predict model accuracy\n",
    "print(\"Based on our current metrics, the accuracy of genre prediction is:\",metrics.accuracy_score(label_test, knn_pred))"
   ]
  },
  {
   "cell_type": "markdown",
   "metadata": {
    "colab_type": "text",
    "id": "NPbDOSRaeu4_"
   },
   "source": [
    "### `for` loop that iterates through the possible values of k\n",
    "- searches for the value of k with the highest prediction accuracy"
   ]
  },
  {
   "cell_type": "code",
   "execution_count": 41,
   "metadata": {
    "colab": {
     "base_uri": "https://localhost:8080/",
     "height": 70
    },
    "colab_type": "code",
    "executionInfo": {
     "elapsed": 4327,
     "status": "ok",
     "timestamp": 1574267647625,
     "user": {
      "displayName": "Austin Chia Cheng En",
      "photoUrl": "",
      "userId": "07053911715638080434"
     },
     "user_tz": -480
    },
    "id": "ZCG9iwB4d1Fu",
    "outputId": "35a73917-aaaf-4f4d-94bb-c9b0dcdd45f8"
   },
   "outputs": [
    {
     "name": "stdout",
     "output_type": "stream",
     "text": [
      "Prediction scores of varying k values: [0.74, 0.734375, 0.78375, 0.79125, 0.8075, 0.80125, 0.81, 0.806875, 0.808125, 0.80875, 0.8075, 0.805, 0.805625, 0.799375, 0.803125, 0.801875, 0.8025, 0.8075, 0.805625, 0.810625, 0.8075, 0.806875, 0.806875, 0.805, 0.804375, 0.8025, 0.804375, 0.803125, 0.800625]\n",
      "Based on the testing for maximum accuracy of genre prediction, the highest score is: 0.810625 when k = 12\n"
     ]
    }
   ],
   "source": [
    "# try K=1 through K=25 and record testing accuracy\n",
    "k_range = range(1, 30)\n",
    "\n",
    "# We can create Python dictionary using [] or dict()\n",
    "scores = []\n",
    "\n",
    "# We use a loop through the range 1 to 26\n",
    "# We append the scores in the dictionary\n",
    "for k in k_range:\n",
    "    knn = KNeighborsClassifier(n_neighbors=k)\n",
    "    knn.fit(train_data, labelcol)\n",
    "    knn_pred = knn.predict(data_test)\n",
    "    scores.append(metrics.accuracy_score(label_test, knn_pred))\n",
    "\n",
    "print(\"Prediction scores of varying k values:\", scores)\n",
    "print(\"Based on the testing for maximum accuracy of genre prediction, the highest score is:\", max(scores), \"when k = 12\")"
   ]
  },
  {
   "cell_type": "markdown",
   "metadata": {
    "colab_type": "text",
    "id": "zieMANMVj3y7"
   },
   "source": [
    "### Storing the prediction scores into a dataframe `pred_score`\n",
    "- dataframe output is presented below"
   ]
  },
  {
   "cell_type": "code",
   "execution_count": 42,
   "metadata": {
    "colab": {
     "base_uri": "https://localhost:8080/",
     "height": 906
    },
    "colab_type": "code",
    "executionInfo": {
     "elapsed": 924,
     "status": "ok",
     "timestamp": 1574266029812,
     "user": {
      "displayName": "Austin Chia Cheng En",
      "photoUrl": "",
      "userId": "07053911715638080434"
     },
     "user_tz": -480
    },
    "id": "PkmumPE8ejZA",
    "outputId": "66778070-4df9-400b-c6ce-aa956a5e9ba9"
   },
   "outputs": [
    {
     "data": {
      "text/html": [
       "<div>\n",
       "<style scoped>\n",
       "    .dataframe tbody tr th:only-of-type {\n",
       "        vertical-align: middle;\n",
       "    }\n",
       "\n",
       "    .dataframe tbody tr th {\n",
       "        vertical-align: top;\n",
       "    }\n",
       "\n",
       "    .dataframe thead th {\n",
       "        text-align: right;\n",
       "    }\n",
       "</style>\n",
       "<table border=\"1\" class=\"dataframe\">\n",
       "  <thead>\n",
       "    <tr style=\"text-align: right;\">\n",
       "      <th></th>\n",
       "      <th>Prediction Score</th>\n",
       "    </tr>\n",
       "  </thead>\n",
       "  <tbody>\n",
       "    <tr>\n",
       "      <th>0</th>\n",
       "      <td>0.740000</td>\n",
       "    </tr>\n",
       "    <tr>\n",
       "      <th>1</th>\n",
       "      <td>0.734375</td>\n",
       "    </tr>\n",
       "    <tr>\n",
       "      <th>2</th>\n",
       "      <td>0.783750</td>\n",
       "    </tr>\n",
       "    <tr>\n",
       "      <th>3</th>\n",
       "      <td>0.791250</td>\n",
       "    </tr>\n",
       "    <tr>\n",
       "      <th>4</th>\n",
       "      <td>0.807500</td>\n",
       "    </tr>\n",
       "    <tr>\n",
       "      <th>5</th>\n",
       "      <td>0.801250</td>\n",
       "    </tr>\n",
       "    <tr>\n",
       "      <th>6</th>\n",
       "      <td>0.810000</td>\n",
       "    </tr>\n",
       "    <tr>\n",
       "      <th>7</th>\n",
       "      <td>0.806875</td>\n",
       "    </tr>\n",
       "    <tr>\n",
       "      <th>8</th>\n",
       "      <td>0.808125</td>\n",
       "    </tr>\n",
       "    <tr>\n",
       "      <th>9</th>\n",
       "      <td>0.808750</td>\n",
       "    </tr>\n",
       "    <tr>\n",
       "      <th>10</th>\n",
       "      <td>0.807500</td>\n",
       "    </tr>\n",
       "    <tr>\n",
       "      <th>11</th>\n",
       "      <td>0.805000</td>\n",
       "    </tr>\n",
       "    <tr>\n",
       "      <th>12</th>\n",
       "      <td>0.805625</td>\n",
       "    </tr>\n",
       "    <tr>\n",
       "      <th>13</th>\n",
       "      <td>0.799375</td>\n",
       "    </tr>\n",
       "    <tr>\n",
       "      <th>14</th>\n",
       "      <td>0.803125</td>\n",
       "    </tr>\n",
       "    <tr>\n",
       "      <th>15</th>\n",
       "      <td>0.801875</td>\n",
       "    </tr>\n",
       "    <tr>\n",
       "      <th>16</th>\n",
       "      <td>0.802500</td>\n",
       "    </tr>\n",
       "    <tr>\n",
       "      <th>17</th>\n",
       "      <td>0.807500</td>\n",
       "    </tr>\n",
       "    <tr>\n",
       "      <th>18</th>\n",
       "      <td>0.805625</td>\n",
       "    </tr>\n",
       "    <tr>\n",
       "      <th>19</th>\n",
       "      <td>0.810625</td>\n",
       "    </tr>\n",
       "    <tr>\n",
       "      <th>20</th>\n",
       "      <td>0.807500</td>\n",
       "    </tr>\n",
       "    <tr>\n",
       "      <th>21</th>\n",
       "      <td>0.806875</td>\n",
       "    </tr>\n",
       "    <tr>\n",
       "      <th>22</th>\n",
       "      <td>0.806875</td>\n",
       "    </tr>\n",
       "    <tr>\n",
       "      <th>23</th>\n",
       "      <td>0.805000</td>\n",
       "    </tr>\n",
       "    <tr>\n",
       "      <th>24</th>\n",
       "      <td>0.804375</td>\n",
       "    </tr>\n",
       "    <tr>\n",
       "      <th>25</th>\n",
       "      <td>0.802500</td>\n",
       "    </tr>\n",
       "    <tr>\n",
       "      <th>26</th>\n",
       "      <td>0.804375</td>\n",
       "    </tr>\n",
       "    <tr>\n",
       "      <th>27</th>\n",
       "      <td>0.803125</td>\n",
       "    </tr>\n",
       "    <tr>\n",
       "      <th>28</th>\n",
       "      <td>0.800625</td>\n",
       "    </tr>\n",
       "  </tbody>\n",
       "</table>\n",
       "</div>"
      ],
      "text/plain": [
       "    Prediction Score\n",
       "0           0.740000\n",
       "1           0.734375\n",
       "2           0.783750\n",
       "3           0.791250\n",
       "4           0.807500\n",
       "5           0.801250\n",
       "6           0.810000\n",
       "7           0.806875\n",
       "8           0.808125\n",
       "9           0.808750\n",
       "10          0.807500\n",
       "11          0.805000\n",
       "12          0.805625\n",
       "13          0.799375\n",
       "14          0.803125\n",
       "15          0.801875\n",
       "16          0.802500\n",
       "17          0.807500\n",
       "18          0.805625\n",
       "19          0.810625\n",
       "20          0.807500\n",
       "21          0.806875\n",
       "22          0.806875\n",
       "23          0.805000\n",
       "24          0.804375\n",
       "25          0.802500\n",
       "26          0.804375\n",
       "27          0.803125\n",
       "28          0.800625"
      ]
     },
     "execution_count": 42,
     "metadata": {},
     "output_type": "execute_result"
    }
   ],
   "source": [
    "pred_score = pd.DataFrame(scores, columns = ['Prediction Score'])\n",
    "pred_score "
   ]
  },
  {
   "cell_type": "markdown",
   "metadata": {
    "colab_type": "text",
    "id": "6ZQfQtsJ1i0H"
   },
   "source": [
    "### Evaluating the best value of k for prediction accuracy\n",
    "- a plot of Testing Accuracy was plotted against the Value of K for KNN"
   ]
  },
  {
   "cell_type": "code",
   "execution_count": 43,
   "metadata": {
    "colab": {
     "base_uri": "https://localhost:8080/",
     "height": 296
    },
    "colab_type": "code",
    "executionInfo": {
     "elapsed": 836,
     "status": "ok",
     "timestamp": 1574264770854,
     "user": {
      "displayName": "Austin Chia Cheng En",
      "photoUrl": "",
      "userId": "07053911715638080434"
     },
     "user_tz": -480
    },
    "id": "glBCwbTgfGlS",
    "outputId": "8af8597e-ec22-4bf4-ca0d-183391dced4e"
   },
   "outputs": [
    {
     "data": {
      "text/plain": [
       "Text(0, 0.5, 'Testing Accuracy')"
      ]
     },
     "execution_count": 43,
     "metadata": {},
     "output_type": "execute_result"
    },
    {
     "data": {
      "image/png": "[encoded data removed]",
      "text/plain": [
       "<Figure size 432x288 with 1 Axes>"
      ]
     },
     "metadata": {
      "needs_background": "light"
     },
     "output_type": "display_data"
    }
   ],
   "source": [
    "# import Matplotlib (scientific plotting library)\n",
    "import matplotlib.pyplot as plt\n",
    "\n",
    "# Plots the relationship between the range of K vlaues and testing accuracy\n",
    "plt.plot(k_range, scores)\n",
    "plt.xlabel('Value of K for KNN')\n",
    "plt.ylabel('Testing Accuracy')"
   ]
  },
  {
   "cell_type": "markdown",
   "metadata": {
    "colab_type": "text",
    "id": "zG-r_zpB2q53"
   },
   "source": [
    "## Optimal numbers of k Testing using Misclassification Error"
   ]
  },
  {
   "cell_type": "code",
   "execution_count": 44,
   "metadata": {
    "colab": {},
    "colab_type": "code",
    "id": "707l8pan2kTp"
   },
   "outputs": [],
   "source": [
    "# changing to misclassification error\n",
    "# creating list of K for KNN\n",
    "import seaborn as sns\n",
    "\n",
    "from sklearn.model_selection import cross_val_score\n",
    "\n",
    "k_list = list(range(1,31))\n",
    "# creating list of cv scores\n",
    "cv_scores = []\n",
    "\n",
    "# perform 10-fold cross validation\n",
    "for k in k_list:\n",
    "    knn = KNeighborsClassifier(n_neighbors=k)\n",
    "    scores = cross_val_score(knn, train_data, labelcol, cv=30, scoring='accuracy')\n",
    "    cv_scores.append(scores.mean())"
   ]
  },
  {
   "cell_type": "markdown",
   "metadata": {
    "colab_type": "text",
    "id": "SV7rt5wNLLI3"
   },
   "source": [
    "### Plotting the Misclassification  Error against the number of k neighbors"
   ]
  },
  {
   "cell_type": "code",
   "execution_count": 45,
   "metadata": {
    "colab": {
     "base_uri": "https://localhost:8080/",
     "height": 649
    },
    "colab_type": "code",
    "executionInfo": {
     "elapsed": 1344,
     "status": "ok",
     "timestamp": 1574341462734,
     "user": {
      "displayName": "Austin Chia Cheng En",
      "photoUrl": "",
      "userId": "07053911715638080434"
     },
     "user_tz": -480
    },
    "id": "v38pdFt-2pK7",
    "outputId": "ab72f497-1eb7-46d0-9d3d-c6b2f8b1ae59"
   },
   "outputs": [
    {
     "data": {
      "text/plain": [
       "<Figure size 432x288 with 0 Axes>"
      ]
     },
     "metadata": {},
     "output_type": "display_data"
    },
    {
     "data": {
      "image/png": "[encoded data removed]",
      "text/plain": [
       "<Figure size 1080x720 with 1 Axes>"
      ]
     },
     "metadata": {
      "needs_background": "light"
     },
     "output_type": "display_data"
    }
   ],
   "source": [
    "MSE = [1 - x for x in scores]\n",
    "train_data = np.array(train_data)\n",
    "labelcol = np.array(labelcol)\n",
    "plt.figure()\n",
    "plt.figure(figsize=(15,10))\n",
    "plt.title('The optimal number of neighbors', fontsize=20, fontweight='bold')\n",
    "plt.xlabel('Number of Neighbors K', fontsize=15)\n",
    "plt.ylabel('Misclassification Error', fontsize=15)\n",
    "sns.set_style(\"whitegrid\")\n",
    "plt.plot(k_list, MSE)\n",
    "\n",
    "plt.show()"
   ]
  },
  {
   "cell_type": "markdown",
   "metadata": {
    "colab_type": "text",
    "id": "6DXVoKa0Ez66"
   },
   "source": [
    "## 6) Confusion Matrix\n",
    "- A confusion matrix was plotted"
   ]
  },
  {
   "cell_type": "code",
   "execution_count": 46,
   "metadata": {
    "colab": {
     "base_uri": "https://localhost:8080/",
     "height": 363
    },
    "colab_type": "code",
    "executionInfo": {
     "elapsed": 978,
     "status": "ok",
     "timestamp": 1574341492428,
     "user": {
      "displayName": "Austin Chia Cheng En",
      "photoUrl": "",
      "userId": "07053911715638080434"
     },
     "user_tz": -480
    },
    "id": "sVyU22ZYEytR",
    "outputId": "497e25fa-f163-416c-89c8-b2e9a882cbab"
   },
   "outputs": [
    {
     "name": "stdout",
     "output_type": "stream",
     "text": [
      "[[389   3   4   1]\n",
      " [  7 297  57  41]\n",
      " [  3  71 287  29]\n",
      " [ 15  69  19 308]]\n"
     ]
    },
    {
     "data": {
      "image/png": "[encoded data removed]",
      "text/plain": [
       "<Figure size 432x288 with 2 Axes>"
      ]
     },
     "metadata": {},
     "output_type": "display_data"
    }
   ],
   "source": [
    "labels = ['metal', 'classical', 'hiphop', 'country']\n",
    "cm = metrics.confusion_matrix(label_test, knn_pred)\n",
    "print(cm)\n",
    "\n",
    "fig = plt.figure()\n",
    "ax = fig.add_subplot(111)\n",
    "cax = ax.matshow(cm)\n",
    "plt.title('Confusion Matrix of the Genre Classifier', y=1.08)\n",
    "fig.colorbar(cax)\n",
    "ax.set_xticklabels([''] + labels)\n",
    "ax.set_yticklabels([''] + labels)\n",
    "plt.xlabel('Predicted')\n",
    "plt.ylabel('True')\n",
    "\n",
    "plt.show()"
   ]
  },
  {
   "cell_type": "markdown",
   "metadata": {
    "colab_type": "text",
    "id": "DKiTZ9zUCZ1T"
   },
   "source": [
    "## 7) Defining functions to determine precision and recall\n",
    "- `precision`\n",
    "- `recall`\n",
    "- `precision_macro_average`\n",
    "- `recall_macro_average`"
   ]
  },
  {
   "cell_type": "code",
   "execution_count": 47,
   "metadata": {
    "colab": {},
    "colab_type": "code",
    "id": "YqzrDFHREynX"
   },
   "outputs": [],
   "source": [
    "def precision(label, confusion_matrix):\n",
    "    col = confusion_matrix[:, label]\n",
    "    return confusion_matrix[label, label] / col.sum()\n",
    "    \n",
    "def recall(label, confusion_matrix):\n",
    "    row = confusion_matrix[label, :]\n",
    "    return confusion_matrix[label, label] / row.sum()\n",
    "def precision_macro_average(confusion_matrix):\n",
    "    rows, columns = confusion_matrix.shape\n",
    "    sum_of_precisions = 0\n",
    "    for label in range(rows):\n",
    "        sum_of_precisions += precision(label, confusion_matrix)\n",
    "    return sum_of_precisions / rows\n",
    "def recall_macro_average(confusion_matrix):\n",
    "    rows, columns = confusion_matrix.shape\n",
    "    sum_of_recalls = 0\n",
    "    for label in range(columns):\n",
    "        sum_of_recalls += recall(label, confusion_matrix)\n",
    "    return sum_of_recalls / columns"
   ]
  },
  {
   "cell_type": "markdown",
   "metadata": {
    "colab_type": "text",
    "id": "K06s5QyHC6Ku"
   },
   "source": [
    "## 8) Printing the precision and recall values for each label\n",
    "\n",
    "Sample output shown below\n"
   ]
  },
  {
   "cell_type": "code",
   "execution_count": 48,
   "metadata": {
    "colab": {
     "base_uri": "https://localhost:8080/",
     "height": 101
    },
    "colab_type": "code",
    "executionInfo": {
     "elapsed": 766,
     "status": "ok",
     "timestamp": 1574258159362,
     "user": {
      "displayName": "Austin Chia Cheng En",
      "photoUrl": "",
      "userId": "07053911715638080434"
     },
     "user_tz": -480
    },
    "id": "G65_KaTPcLqE",
    "outputId": "d4a45b18-5b17-4d87-8fa8-fb2b083ddbef"
   },
   "outputs": [
    {
     "name": "stdout",
     "output_type": "stream",
     "text": [
      "label precision recall\n",
      "    0     0.940  0.980\n",
      "    1     0.675  0.739\n",
      "    2     0.782  0.736\n",
      "    3     0.813  0.749\n"
     ]
    }
   ],
   "source": [
    "print(\"label precision recall\")\n",
    "for label in range(4):\n",
    "    print(f\"{label:5d} {precision(label, cm):9.3f} {recall(label, cm):6.3f}\")"
   ]
  },
  {
   "cell_type": "markdown",
   "metadata": {
    "colab_type": "text",
    "id": "HyA1bI2lGg96"
   },
   "source": [
    "## 9) Printing the total precision and recall"
   ]
  },
  {
   "cell_type": "code",
   "execution_count": 49,
   "metadata": {
    "colab": {
     "base_uri": "https://localhost:8080/",
     "height": 50
    },
    "colab_type": "code",
    "executionInfo": {
     "elapsed": 771,
     "status": "ok",
     "timestamp": 1574258185737,
     "user": {
      "displayName": "Austin Chia Cheng En",
      "photoUrl": "",
      "userId": "07053911715638080434"
     },
     "user_tz": -480
    },
    "id": "UbYB_kJpdbNS",
    "outputId": "07aaa180-5278-47bf-94d4-d090b53126a2"
   },
   "outputs": [
    {
     "name": "stdout",
     "output_type": "stream",
     "text": [
      "precision total: 0.8023236957489013\n",
      "recall total: 0.8009860000098369\n"
     ]
    }
   ],
   "source": [
    "print(\"precision total:\", precision_macro_average(cm))\n",
    "print(\"recall total:\", recall_macro_average(cm))"
   ]
  },
  {
   "cell_type": "code",
   "execution_count": 50,
   "metadata": {
    "colab": {},
    "colab_type": "code",
    "id": "j6pAP09bdgVc"
   },
   "outputs": [],
   "source": [
    "def accuracy(confusion_matrix):\n",
    "    diagonal_sum = confusion_matrix.trace()\n",
    "    sum_of_all_elements = confusion_matrix.sum()\n",
    "    return diagonal_sum / sum_of_all_elements "
   ]
  },
  {
   "cell_type": "code",
   "execution_count": 51,
   "metadata": {
    "colab": {
     "base_uri": "https://localhost:8080/",
     "height": 34
    },
    "colab_type": "code",
    "executionInfo": {
     "elapsed": 773,
     "status": "ok",
     "timestamp": 1574258260674,
     "user": {
      "displayName": "Austin Chia Cheng En",
      "photoUrl": "",
      "userId": "07053911715638080434"
     },
     "user_tz": -480
    },
    "id": "ZUxQ70_Ndivh",
    "outputId": "4bce5c5f-d08e-47fa-b22f-0940539bcff9"
   },
   "outputs": [
    {
     "data": {
      "text/plain": [
       "0.800625"
      ]
     },
     "execution_count": 51,
     "metadata": {},
     "output_type": "execute_result"
    }
   ],
   "source": [
    "accuracy(cm)"
   ]
  }
 ],
 "metadata": {
  "colab": {
   "collapsed_sections": [],
   "name": "Data Cleaning and ML.ipynb",
   "provenance": [],
   "toc_visible": true
  },
  "kernelspec": {
   "display_name": "Python 3",
   "language": "python",
   "name": "python3"
  },
  "language_info": {
   "codemirror_mode": {
    "name": "ipython",
    "version": 3
   },
   "file_extension": ".py",
   "mimetype": "text/x-python",
   "name": "python",
   "nbconvert_exporter": "python",
   "pygments_lexer": "ipython3",
   "version": "3.7.3"
  }
 },
 "nbformat": 4,
 "nbformat_minor": 1
}
